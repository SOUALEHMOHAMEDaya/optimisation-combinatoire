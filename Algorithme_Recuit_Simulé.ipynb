{
  "nbformat": 4,
  "nbformat_minor": 0,
  "metadata": {
    "colab": {
      "name": "Algorithme Recuit Simulé ",
      "provenance": [],
      "collapsed_sections": []
    },
    "kernelspec": {
      "name": "python3",
      "display_name": "Python 3"
    },
    "language_info": {
      "name": "python"
    }
  },
  "cells": [
    {
      "cell_type": "code",
      "execution_count": null,
      "metadata": {
        "id": "COx2e_fBOrVP"
      },
      "outputs": [],
      "source": [
        "import numpy as np \n",
        "import matplotlib.pyplot as plt\n",
        "import random as rd"
      ]
    },
    {
      "cell_type": "code",
      "source": [
        "# fonction du calcul du coût \n",
        "def fonction_cout():\n",
        "  global chemin \n",
        "  energie =0.0 \n",
        "  xy = np.column_stack((x[chemin],y[chemin]))\n",
        "  energie = np.sum(np.sqrt(np.sum((xy-np.roll(xy,-1,axis=0))**2, axis=1)))\n",
        "  return energie"
      ],
      "metadata": {
        "id": "8LipAy43SWGd"
      },
      "execution_count": null,
      "outputs": []
    },
    {
      "cell_type": "code",
      "source": [
        "#Fonction de déplacement dans le chemin \n",
        "def Deplacement(ville1, ville2):\n",
        "  global chemin \n",
        "  Min = min(ville1, ville2)\n",
        "  Max = max(ville1, ville2)\n",
        "  chemin[Min:Max] = chemin[Min:Max].copy()[::-1]\n",
        "  return "
      ],
      "metadata": {
        "id": "kWsJG5QKyCSI"
      },
      "execution_count": null,
      "outputs": []
    },
    {
      "cell_type": "code",
      "source": [
        "N= 5 # Nombre de ville \n",
        "T0= 10 # Température initiale \n",
        "T= T0 # Température \n",
        "Tmin= 9 # Température minimum \n",
        "tau= 1e2 # \n",
        "beta= 1e-1\n",
        "k= 0\n",
        "t= 0\n",
        "\n",
        "#choix des coordonnées des points villes \n",
        "x= np.random.uniform(0,1,N)\n",
        "y= np.random.uniform(0,1,N)\n",
        "\n",
        "#choix du chemin initiale \n",
        "chemin = np.arange(N)\n",
        "chemin1 = chemin.copy()\n",
        "\n",
        "#calcul de la distance du chemin initiale \n",
        "cout_courant = fonction_cout()\n",
        "d1= cout_courant\n",
        "print ('k =', k, 'chemin hamiltonien :', chemin,'distance du chemin =', cout_courant, 'température', T )\n",
        "\n",
        "while T> Tmin:\n",
        "  ville_voisine = rd.randint(0,N-1)\n",
        "  ville_courante = rd.randint(0,N-1)\n",
        "  if ville_voisine == ville_courante: continue \n",
        "\n",
        "  # Déplacement \n",
        "  Deplacement(ville_voisine, ville_courante)\n",
        "\n",
        "  #calcul de la distance du nouveau \n",
        "  cout_nouveau = fonction_cout()\n",
        "\n",
        "  if cout_nouveau <= cout_courant:\n",
        "    cout_courant = cout_nouveau\n",
        "  else : #Critère de Métropolis \n",
        "    dE = cout_nouveau - cout_courant\n",
        "    #beta=rd.uniform(0,1)\n",
        "    if beta > np.exp(-dE/T):\n",
        "      Deplacement(ville_voisine, ville_courante)#la nouvelle solution (le nouveau chemin) est rejetée.\n",
        "    else:\n",
        "      cout_courant = cout_nouveau # On accepte la nouvelle solution (chemin) malgré qu'elle n'améliore pas la fonction avec la probabilité du critère de Métropolis \n",
        "      #Abaisser la température ---> refroidissement \n",
        "  \n",
        "  t+=1\n",
        "  T = T0 *np.exp(-t/tau)\n",
        "  k+=1\n",
        "  print('k =', k, 'Chemin Hamiltonien :', chemin, 'Distance du chemin = ', cout_courant, 'Température', T)\n",
        "  \n",
        "  #Affichage des résultats finaux \n",
        "\n",
        "print('   résultat final ')\n",
        "print('Chemin Hamiltonien Initial :', chemin1, 'Distance du chemin Initial =', d1, 'Température Initiale =', T0)\n",
        "print('Chemin Hamiltonien Optimal :', chemin, 'Distance du chemin Optimal =', cout_courant, 'Température Finale =', T)\n",
        "plt.plot(x[chemin1], y[chemin1], marker =0, color='g')\n",
        "\n",
        "\n"
      ],
      "metadata": {
        "colab": {
          "base_uri": "https://localhost:8080/",
          "height": 572
        },
        "id": "md1_voCdypgF",
        "outputId": "e68fc304-c9d6-4397-a6bc-fb42ebd64ff9"
      },
      "execution_count": null,
      "outputs": [
        {
          "output_type": "stream",
          "name": "stdout",
          "text": [
            "k = 0 chemin hamiltonien : [0 1 2 3 4] distance du chemin = 2.1312444732727527 température 10\n",
            "k = 1 Chemin Hamiltonien : [0 1 3 2 4] Distance du chemin =  2.1260243475882876 Température 9.900498337491682\n",
            "k = 2 Chemin Hamiltonien : [2 3 1 0 4] Distance du chemin =  2.1260243475882876 Température 9.801986733067553\n",
            "k = 3 Chemin Hamiltonien : [2 3 1 0 4] Distance du chemin =  2.1260243475882876 Température 9.70445533548508\n",
            "k = 4 Chemin Hamiltonien : [0 1 3 2 4] Distance du chemin =  2.1260243475882876 Température 9.607894391523232\n",
            "k = 5 Chemin Hamiltonien : [0 1 2 3 4] Distance du chemin =  2.1312444732727527 Température 9.51229424500714\n",
            "k = 6 Chemin Hamiltonien : [0 1 2 3 4] Distance du chemin =  2.1312444732727527 Température 9.417645335842487\n",
            "k = 7 Chemin Hamiltonien : [0 1 2 3 4] Distance du chemin =  2.1312444732727527 Température 9.323938199059484\n",
            "k = 8 Chemin Hamiltonien : [3 2 1 0 4] Distance du chemin =  2.1312444732727527 Température 9.231163463866357\n",
            "k = 9 Chemin Hamiltonien : [3 0 1 2 4] Distance du chemin =  3.3288843922481406 Température 9.139311852712282\n",
            "k = 10 Chemin Hamiltonien : [3 1 0 2 4] Distance du chemin =  3.328950427553245 Température 9.048374180359595\n",
            "k = 11 Chemin Hamiltonien : [3 1 0 2 4] Distance du chemin =  3.328950427553245 Température 8.958341352965283\n",
            "   résultat final \n",
            "Chemin Hamiltonien Initial : [0 1 2 3 4] Distance du chemin Initial = 2.1312444732727527 Température Initiale = 10\n",
            "Chemin Hamiltonien Optimal : [3 1 0 2 4] Distance du chemin Optimal = 3.328950427553245 Température Finale = 8.958341352965283\n"
          ]
        },
        {
          "output_type": "execute_result",
          "data": {
            "text/plain": [
              "[<matplotlib.lines.Line2D at 0x7f5381238190>]"
            ]
          },
          "metadata": {},
          "execution_count": 7
        },
        {
          "output_type": "display_data",
          "data": {
            "text/plain": [
              "<Figure size 432x288 with 1 Axes>"
            ],
            "image/png": "[encoded data removed]"
          },
          "metadata": {
            "needs_background": "light"
          }
        }
      ]
    },
    {
      "cell_type": "code",
      "source": [
        "def ratio_b_over_v(xi):\n",
        "    return xi[2]/xi[1]"
      ],
      "metadata": {
        "id": "N_hRQoNA6oyA"
      },
      "execution_count": null,
      "outputs": []
    },
    {
      "cell_type": "code",
      "source": [
        "def total_valu_size(packing, valus, sizes, max_size):\n",
        "  # total value and size of a specified packing\n",
        "\n",
        "  v = 0.0  # total valu of packing\n",
        "  s = 0.0  # total size of packing\n",
        "  n = len(packing)\n",
        "\n",
        "  for i in range(n):\n",
        "    if packing[i] == 1:\n",
        "      v += valus[i]\n",
        "      s += sizes[i]\n",
        "\n",
        "  if s > max_size:  # too big to fit in knapsack\n",
        "    v = 0.0\n",
        "  return (v, s)\n",
        "\n",
        "def adjacent(packing, rnd):\n",
        "  n = len(packing)\n",
        "  result = np.copy(packing)\n",
        "  i = rnd.randint(n)\n",
        "  if result[i] == 0:\n",
        "    result[i] = 1\n",
        "  elif result[i] == 1:\n",
        "    result[i] = 0\n",
        "  return result\n",
        "\n",
        "def solve(n_items, rnd, valus, sizes, max_size, max_iter, start_temperature, alpha):\n",
        "  # solve using simulated annealing\n",
        "\n",
        "  curr_temperature = start_temperature\n",
        "  curr_packing = np.ones(n_items, dtype=np.int64)\n",
        "\n",
        "  print(\"Initial guess: \")\n",
        "  print(curr_packing)\n",
        "\n",
        "  (curr_valu, curr_size) = total_valu_size(curr_packing, valus, sizes, max_size)\n",
        "\n",
        "  iteration = 0\n",
        "  interval = (int)(max_iter / 10)\n",
        "  while iteration < max_iter:\n",
        "    # pct_iters_left = (max_iter - iteration) / (max_iter * 1.0)\n",
        "    adj_packing = adjacent(curr_packing, rnd)\n",
        "    (adj_v, _) = total_valu_size(adj_packing, valus, sizes, max_size)\n",
        "\n",
        "    if adj_v > curr_valu:  # better so accept adjacent\n",
        "      curr_packing = adj_packing; curr_valu = adj_v\n",
        "    else:          # adjacent packing is worse\n",
        "      accept_p = np.exp( (adj_v - curr_valu ) / curr_temperature ) \n",
        "      p = rnd.random()\n",
        "      if p < accept_p:  # accept worse packing anyway\n",
        "        curr_packing = adj_packing; curr_valu = adj_v \n",
        "      # else don't accept\n",
        "\n",
        "    if iteration % interval == 0:\n",
        "      print(\"iter = %6d : curr value = %7.0f : curr temp = %10.2f \" % (iteration, curr_valu, curr_temperature))\n",
        "\n",
        "    if curr_temperature < 0.00001:\n",
        "      curr_temperature = 0.00001\n",
        "    else:\n",
        "      curr_temperature *= alpha\n",
        "\n",
        "    iteration += 1\n",
        "\n",
        "  return curr_packing       \n",
        "\n",
        "def main():\n",
        "\n",
        "  valus = np.array([79, 32, 47, 18, 26, 85, 33, 40, 45, 59])\n",
        "  sizes = np.array([85, 26, 48, 21, 22, 95, 43, 45, 55, 52])\n",
        "  max_size = 101\n",
        "\n",
        "  print(\"\\nItem values: \")\n",
        "  print(valus)\n",
        "  print(\"\\nItem sizes: \")\n",
        "  print(sizes)\n",
        "  print(\"\\nMax total size = %d \" % max_size)\n",
        "\n",
        "  rnd = np.random.RandomState(5)  # 3 .98 = 117,100\n",
        "  max_iter = 1000\n",
        "  start_temperature = 10000.0\n",
        "  alpha = 0.98\n",
        "\n",
        "  print(\"\\nSettings: \")\n",
        "  print(\"max_iter = %d \" % max_iter)\n",
        "  print(\"start_temperature = %0.1f \" % start_temperature)\n",
        "  print(\"alpha = %0.2f \" % alpha)\n",
        "\n",
        "  print(\"\\nStarting solve() \")\n",
        "  packing = solve(10, rnd, valus, sizes, \n",
        "    max_size, max_iter, start_temperature, alpha)\n",
        "  print(\"Finished solve() \")\n",
        "\n",
        "  print(\"\\nBest packing found: \")\n",
        "  print(packing)\n",
        "  (v,s) = \\\n",
        "    total_valu_size(packing, valus, sizes, max_size)\n",
        "  print(\"\\nTotal value of packing = %0.1f \" % v)\n",
        "  print(\"Total size  of packing = %0.1f \" % s)\n",
        "\n",
        "  print(\"\\nEnd demo \")\n",
        "\n",
        "if __name__ == \"__main__\":\n",
        "  main()"
      ],
      "metadata": {
        "colab": {
          "base_uri": "https://localhost:8080/"
        },
        "id": "tBrerjHzHA_F",
        "outputId": "83c03732-de44-4aa8-ee54-7a26a9c9a6c8"
      },
      "execution_count": null,
      "outputs": [
        {
          "output_type": "stream",
          "name": "stdout",
          "text": [
            "\n",
            "Item values: \n",
            "[79 32 47 18 26 85 33 40 45 59]\n",
            "\n",
            "Item sizes: \n",
            "[85 26 48 21 22 95 43 45 55 52]\n",
            "\n",
            "Max total size = 101 \n",
            "\n",
            "Settings: \n",
            "max_iter = 1000 \n",
            "start_temperature = 10000.0 \n",
            "alpha = 0.98 \n",
            "\n",
            "Starting solve() \n",
            "Initial guess: \n",
            "[1 1 1 1 1 1 1 1 1 1]\n",
            "iter =      0 : curr value =       0 : curr temp =   10000.00 \n",
            "iter =    100 : curr value =       0 : curr temp =    1326.20 \n",
            "iter =    200 : curr value =       0 : curr temp =     175.88 \n",
            "iter =    300 : curr value =       0 : curr temp =      23.33 \n",
            "iter =    400 : curr value =      98 : curr temp =       3.09 \n",
            "iter =    500 : curr value =      98 : curr temp =       0.41 \n",
            "iter =    600 : curr value =      98 : curr temp =       0.05 \n",
            "iter =    700 : curr value =      98 : curr temp =       0.01 \n",
            "iter =    800 : curr value =      98 : curr temp =       0.00 \n",
            "iter =    900 : curr value =      98 : curr temp =       0.00 \n",
            "Finished solve() \n",
            "\n",
            "Best packing found: \n",
            "[0 1 0 0 1 0 0 1 0 0]\n",
            "\n",
            "Total value of packing = 98.0 \n",
            "Total size  of packing = 93.0 \n",
            "\n",
            "End demo \n"
          ]
        }
      ]
    },
    {
      "cell_type": "code",
      "source": [
        "def get_voisin(solution, pt, vMax, vMin):\n",
        "  taille = len(solution)\n",
        "  nb = np.random.randint(1,taille)\n",
        "  #print(\"nb = \",nb)\n",
        "  for i in range(0, nb, +1):\n",
        "    x = np.random.randint(taille-1)\n",
        "    #print(\"supprimer l'élement x =\", x)\n",
        "    del solution[x]\n",
        "  #print(\"après suppression\")\n",
        "  #print( solution)\n",
        "  taille = len(solution)\n",
        "  volume = get_v(solution)\n",
        "\n",
        "  #print(\"maintenant l ajout d'élément\")\n",
        "  while vMax - volume > vMin :\n",
        "    x = np.random.randint(len(pt)-1) \n",
        "    #print(\"l élément à ajouter x =\", x)\n",
        "    #print(str(vMax - volume)+\">\" +str(pt[x][1]))\n",
        "    if (vMax - volume > pt[x][1]):\n",
        "      num_produit = pt[x][0]\n",
        "      solution.append(num_produit)\n",
        "      volume += pt[i][1]\n",
        "  return solution\n"
      ],
      "metadata": {
        "id": "6qnRbvcnN89y"
      },
      "execution_count": null,
      "outputs": []
    },
    {
      "cell_type": "code",
      "source": [
        "def get_v(solution):\n",
        "  volume = 0\n",
        "  for i in range(len(solution)):\n",
        "    volume += pt[solution[i]-1][1]\n",
        "  return volume"
      ],
      "metadata": {
        "id": "N_pX8H2mRSpD"
      },
      "execution_count": null,
      "outputs": []
    },
    {
      "cell_type": "code",
      "source": [
        "def get_b(solution):\n",
        "  benefice = 0\n",
        "  for i in range(len(solution)):\n",
        "    benefice += pt[solution[i]-1][2]\n",
        "  return benefice"
      ],
      "metadata": {
        "id": "oj7-OTt0s8er"
      },
      "execution_count": null,
      "outputs": []
    },
    {
      "cell_type": "code",
      "source": [
        "def affichage(solution, nb_element):\n",
        "  affichage = np.zeros(nb_element, dtype=np.int64)\n",
        "  for i in range (0, len(solution), +1):\n",
        "    affichage[solution[i]-1] += 1\n",
        "  return affichage\n"
      ],
      "metadata": {
        "id": "6vYSlW9lqpCv"
      },
      "execution_count": null,
      "outputs": []
    },
    {
      "cell_type": "code",
      "source": [
        "def Recuit_simule(max_iter, solution_initiale, temperature_initial, alpha, rnd):\n",
        "  print(\"*************paramètres*************\")\n",
        "  print(\"nombre d'itérations : \", max_iter)\n",
        "  print(\"température initiale : \", temperature_initial)\n",
        "  print(\"alpha : \", alpha)\n",
        "  # initialisation de solution courrante\n",
        "  (solution_courrante, volume_courrant, benefice_courant) = (solution_initiale, get_v(solution_initiale), get_b(solution_initiale))\n",
        "  (meilleure_solution, meilleure_benefice) = (solution_courrante, get_b(solution_courrante))\n",
        "  print(\"\\n*********solution initial***********\")\n",
        "  print(meilleure_solution)\n",
        "  print(\"cout initiale : \",meilleure_benefice)\n",
        "  print(\"************************************\\n\")\n",
        "\n",
        "  temperature_courrante = temperature_initial\n",
        "  iteration = 0\n",
        "  interval = (int)(max_iter / 10)\n",
        "  while iteration < max_iter:\n",
        "      solution_voisin = get_voisin(solution_courrante, pt, vMax, vMin ) # générer une solution voisine en utilisant la fonction aléatoire \n",
        "      (volume_voisin, benefice_voisin) = (get_v(solution_voisin),get_b(solution_voisin))\n",
        "\n",
        "      if benefice_voisin > benefice_courant:  # si le cout du voisin est suppérieure \n",
        "        (solution_courrante, volume_courrant, benefice_courrant) = (solution_voisin, volume_voisin, benefice_voisin)\n",
        "\n",
        "        if (meilleure_benefice < benefice_courrant):\n",
        "          (meilleure_solution, meilleure_benefice) = (solution_courrante, benefice_courrant)\n",
        "\n",
        "      else:          # si le cout du voisin est inférieure\n",
        "        accept_p = np.exp( (volume_voisin - volume_courrant ) / temperature_courrante ) \n",
        "        p = rnd.random()\n",
        "        if p < accept_p: \n",
        "          (solution_courrante, volume_courrant, benefice_courrant) = (solution_voisin, volume_voisin, benefice_voisin)\n",
        "        # else don't accept\n",
        "\n",
        "      if iteration % interval == 0:\n",
        "        print(\"iter = %6d  benefice = %7.0f volume = %7.0f temperature = %10.2f  solution courrante = \" % (iteration, benefice_courrant, volume_courrant,  temperature_courrante), affichage(solution_courrante, len(pt)))\n",
        "\n",
        "      if temperature_courrante < 0.00001:\n",
        "        temperature_courrante = 0.00001\n",
        "      else:\n",
        "        temperature_courrante*= alpha\n",
        "\n",
        "      iteration += 1\n",
        "  \n",
        "  print(\"\\n*********meilleure_solution***********\")\n",
        "  print(meilleure_solution)\n",
        "  print(\"meilleure cout : \",meilleure_benefice)\n",
        "  return meilleure_solution, meilleure_benefice"
      ],
      "metadata": {
        "id": "6f-cInZfxC0w"
      },
      "execution_count": null,
      "outputs": []
    },
    {
      "cell_type": "code",
      "source": [
        "# volume du sac\n",
        "vMax = 130\n",
        "\n",
        "# produits\n",
        "x1 = [1,33,4]\n",
        "x2 = [2,49,5]\n",
        "x3 = [3,60,6]\n",
        "x4 = [4,32,2]\n",
        "\n",
        "# table des produits\n",
        "pt = [x1,x2,x3,x4]\n",
        "pt.sort(key=ratio_b_over_v, reverse=True)\n",
        "\n",
        "#génération de la solution initiale\n",
        "solution_initiale = [] \n",
        "vAc = 0 #volume actuel\n",
        "vMin = 32\n",
        "vRes = vMax - vAc\n",
        "i = 0\n",
        "while (vRes > vMin and i < len(pt)):\n",
        "  if pt[i][1] < (vMax - vAc):\n",
        "    num_produit = pt[i][0] \n",
        "    solution_initiale.append(num_produit)\n",
        "    vAc += pt[i][1]\n",
        "    vRes = vMax - vAc\n",
        "  else :\n",
        "    i +=1\n",
        "\n",
        "(meilleure_solution, meilleure_benefice)=Recuit_simule(20, solution_initiale, 100, 0.98,np.random.RandomState(5))\n",
        "\n",
        "\n"
      ],
      "metadata": {
        "colab": {
          "base_uri": "https://localhost:8080/"
        },
        "id": "Rg2d0ERkL9r0",
        "outputId": "9fe06188-99fd-4aa5-ac84-b73b461f7732"
      },
      "execution_count": null,
      "outputs": [
        {
          "output_type": "stream",
          "name": "stdout",
          "text": [
            "*************paramètres*************\n",
            "nombre d'itérations :  20\n",
            "température initiale :  100\n",
            "alpha :  0.98\n",
            "\n",
            "*********solution initial***********\n",
            "[1, 1, 1]\n",
            "cout initiale :  12\n",
            "**************************************\n",
            "\n",
            "iter =      0  benefice =      13 volume =     115 temperature =     100.00  solution courrante =  [2 1 0 0]\n",
            "iter =      2  benefice =      14 volume =     126 temperature =      96.04  solution courrante =  [2 0 1 0]\n",
            "iter =      4  benefice =      14 volume =     126 temperature =      92.24  solution courrante =  [2 0 1 0]\n",
            "iter =      6  benefice =      15 volume =     142 temperature =      88.58  solution courrante =  [1 1 1 0]\n",
            "iter =      8  benefice =      14 volume =     126 temperature =      85.08  solution courrante =  [2 0 1 0]\n",
            "iter =     10  benefice =      13 volume =     115 temperature =      81.71  solution courrante =  [2 1 0 0]\n",
            "iter =     12  benefice =       9 volume =      82 temperature =      78.47  solution courrante =  [1 1 0 0]\n",
            "iter =     14  benefice =      13 volume =     115 temperature =      75.36  solution courrante =  [3 0 0 0]\n",
            "iter =     16  benefice =      13 volume =     115 temperature =      72.38  solution courrante =  [2 1 0 0]\n",
            "iter =     18  benefice =      14 volume =     126 temperature =      69.51  solution courrante =  [2 0 1 0]\n",
            "\n",
            "*********meilleure_solution***********\n",
            "[1, 2, 1]\n",
            "meilleure cout :  15\n"
          ]
        }
      ]
    }
  ]
}